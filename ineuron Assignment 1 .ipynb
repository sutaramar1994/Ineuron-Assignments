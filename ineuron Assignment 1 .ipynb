{
 "cells": [
  {
   "cell_type": "markdown",
   "metadata": {},
   "source": [
    "1. In the below elements which of them are values or an expression? eg:- values can be integer or string and expressions will be mathematical operators.\n",
    "* - Belongs to expressions\n",
    "'hello'-Belongs to values\n",
    "-87.8- Belongs to values\n",
    "-  - Belongs to expressions\n",
    "/ - Belongs to expressions\n",
    "+ - Belongs to expressions\n",
    "6 - Belongs to values\n"
   ]
  },
  {
   "cell_type": "markdown",
   "metadata": {},
   "source": [
    "2. What is the difference between string and variable?\n",
    "Variables that stores the information in the form of values. We cannot use space in-between two words. In addition, in string we can use Space\n",
    "We cannot use space or “” & ‘’ while specifying the Variable and in string we have to use “” & ‘’ also can use space in between colons.\n",
    "Only we have to use the letters without space we cannot use numeric types and collection types, like lists, tuples, dictionaries … In string we can use any of these (Ex. numeric types and collection types, like lists, tuples, dictionaries)\n",
    " We can store string in a variable but we cannot store the variable in the string.\n",
    "With the help of variable, we can carry all the string anywhere in same code.\n"
   ]
  },
  {
   "cell_type": "markdown",
   "metadata": {},
   "source": [
    "3. Describe three different data types.\n",
    "The below Data Types available in python\n",
    "Text Type:\tstr\n",
    "Numeric Types:\tint, float, complex\n",
    "Sequence Types:\tlist, tuple, range\n",
    "Mapping Type:\tdict\n",
    "Set Types:\tset, frozenset\n",
    "Boolean Type:\tbool\n",
    "Binary Types:\tbytes, bytearray, memoryview\n",
    "\n",
    "String- \n",
    "1.\tThe string Data type given in double colon (“”) and single colon (‘’).\n",
    "2.\tThe length of string calculated by len() function.\n",
    "3.\tIf the sting contain any space, then space also calculated while finding the length.\n",
    "4.\tWe can also do indexing to the string. Ex. x=amar is a string then the indexing will be(a-0,m-1,a-2,r-3 and -1 – r, -2 –a, -3 – m, -4 – a)\n",
    "5.\tWe can print indexing with the function print(x[0])\n",
    "Tuple, set, dictionary-\n",
    "1.\tA tuple is a collection, which is ordered and unchangeable. In Python tuples are written with round brackets\n",
    "2.\tA set is a collection, which is unordered and unindexed. In Python, sets are written with curly brackets.\n",
    "3.\tA dictionary is a collection, which is changeable and indexed. In Python dictionaries are written with curly brackets, and they have keys and values.¶\n",
    "\n"
   ]
  },
  {
   "cell_type": "markdown",
   "metadata": {},
   "source": [
    "4. What is an expression made up of? What do all expressions do?\n",
    "Expressions only contain identifiers, literals and operators, where operators include arithmetic and Boolean operators, the function call operator () the subscription operator [] and similar, and can be reduced to some kind of \"value\", which can be any Python object. \n",
    "On the other hand, are everything that can make up a line (or several lines) of Python code. Note that expressions are statements as well.\n"
   ]
  },
  {
   "cell_type": "markdown",
   "metadata": {},
   "source": [
    "5. This assignment statements, like spam = 10. What is the difference between an expression and a statement?\n",
    "The spam=10 is a statement which is has output or dose something.\n",
    "X=10 – Statement\n",
    "Y= 20 – statement\n",
    "x=y – expression \n",
    "Expressions only evaluate the values.\n",
    "print(x+y) – statement gives output 30\n",
    "\n"
   ]
  },
  {
   "cell_type": "markdown",
   "metadata": {},
   "source": [
    "6. After running the following code, what does the variable bacon contain?\n",
    "bacon = 22\n",
    "bacon + 1\n",
    "bacon contain only  22 because we are doing arithmetical operations with the using bacon variable. At the end variable remains same.\n"
   ]
  },
  {
   "cell_type": "markdown",
   "metadata": {},
   "source": [
    "\n",
    "7. What should the values of the following two terms be?\n",
    "'spam' + 'spamspam' = 'spamspamspam'\n",
    "'spam' * 3  = 'spamspamspam'\n"
   ]
  },
  {
   "cell_type": "markdown",
   "metadata": {},
   "source": [
    "8. Why is eggs a valid variable name while 100 is invalid?\n",
    "As discussed in 2nd question on the same assignment. Only we have to use the letters without space we cannot use numeric types and collection types, like lists, tuples, dictionaries … In string we can use any of these (Ex. numeric types and collection types, like lists, tuples, dictionaries)\n"
   ]
  },
  {
   "cell_type": "markdown",
   "metadata": {},
   "source": [
    "9. What three functions can be used to get the integer, floating-point number, or string version of a value?\n",
    "The int(), float(), and str() functions will evaluate to the integer, floating-point number, and string versions of the value passed to them.\n",
    "\n",
    "We can use type() command to find the data type.\n"
   ]
  },
  {
   "cell_type": "markdown",
   "metadata": {},
   "source": [
    "10. Why does this expression cause an error? How can you fix it?\n",
    "'I have eaten ' + 99 + ' burritos.'\n",
    "We can not do arithmetical operations on various data types the data type should be unique while doing arrethmatical operations.\n",
    "We can fix this error by converting 99 from int to strin “99”\n",
    "'I have eaten ' + ‘99’ + ' burritos\n"
   ]
  },
  {
   "cell_type": "markdown",
   "metadata": {},
   "source": []
  }
 ],
 "metadata": {
  "kernelspec": {
   "display_name": "Python 3",
   "language": "python",
   "name": "python3"
  },
  "language_info": {
   "codemirror_mode": {
    "name": "ipython",
    "version": 3
   },
   "file_extension": ".py",
   "mimetype": "text/x-python",
   "name": "python",
   "nbconvert_exporter": "python",
   "pygments_lexer": "ipython3",
   "version": "3.8.3"
  }
 },
 "nbformat": 4,
 "nbformat_minor": 4
}
